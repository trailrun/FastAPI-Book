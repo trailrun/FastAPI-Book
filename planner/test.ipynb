{
 "cells": [
  {
   "cell_type": "code",
   "execution_count": 18,
   "metadata": {},
   "outputs": [],
   "source": [
    "from beanie import Document\n",
    "\n",
    "class Event(Document):\n",
    "    name:str\n",
    "    location:str\n",
    "\n",
    "    class Settings:\n",
    "        name = \"events\""
   ]
  },
  {
   "cell_type": "code",
   "execution_count": 19,
   "metadata": {},
   "outputs": [
    {
     "ename": "CollectionWasNotInitialized",
     "evalue": "",
     "output_type": "error",
     "traceback": [
      "\u001b[1;31m---------------------------------------------------------------------------\u001b[0m",
      "\u001b[1;31mCollectionWasNotInitialized\u001b[0m               Traceback (most recent call last)",
      "\u001b[1;32mc:\\pycho\\FastAPI-Book\\planner\\test.ipynb Cell 2\u001b[0m line \u001b[0;36m1\n\u001b[1;32m----> <a href='vscode-notebook-cell:/c%3A/pycho/FastAPI-Book/planner/test.ipynb#W1sZmlsZQ%3D%3D?line=0'>1</a>\u001b[0m event1 \u001b[39m=\u001b[39m Event(name\u001b[39m=\u001b[39;49m\u001b[39m\"\u001b[39;49m\u001b[39mPackt office launch\u001b[39;49m\u001b[39m\"\u001b[39;49m, location\u001b[39m=\u001b[39;49m\u001b[39m\"\u001b[39;49m\u001b[39mHybrid\u001b[39;49m\u001b[39m\"\u001b[39;49m)\n\u001b[0;32m      <a href='vscode-notebook-cell:/c%3A/pycho/FastAPI-Book/planner/test.ipynb#W1sZmlsZQ%3D%3D?line=1'>2</a>\u001b[0m \u001b[39m# event2 = Event(name=\"Hanbit office launch\", location=\"Hybrid\")\u001b[39;00m\n\u001b[0;32m      <a href='vscode-notebook-cell:/c%3A/pycho/FastAPI-Book/planner/test.ipynb#W1sZmlsZQ%3D%3D?line=2'>3</a>\u001b[0m \u001b[39m# await event1.create()\u001b[39;00m\n\u001b[0;32m      <a href='vscode-notebook-cell:/c%3A/pycho/FastAPI-Book/planner/test.ipynb#W1sZmlsZQ%3D%3D?line=3'>4</a>\u001b[0m \u001b[39m# await event2.create()\u001b[39;00m\n\u001b[0;32m      <a href='vscode-notebook-cell:/c%3A/pycho/FastAPI-Book/planner/test.ipynb#W1sZmlsZQ%3D%3D?line=4'>5</a>\u001b[0m \u001b[39m# await Event.insert_many([event1, event2])\u001b[39;00m\n",
      "File \u001b[1;32mc:\\pycho\\FastAPI-Book\\planner\\venv\\Lib\\site-packages\\beanie\\odm\\documents.py:140\u001b[0m, in \u001b[0;36mDocument.__init__\u001b[1;34m(self, *args, **kwargs)\u001b[0m\n\u001b[0;32m    138\u001b[0m \u001b[39mdef\u001b[39;00m \u001b[39m__init__\u001b[39m(\u001b[39mself\u001b[39m, \u001b[39m*\u001b[39margs, \u001b[39m*\u001b[39m\u001b[39m*\u001b[39mkwargs):\n\u001b[0;32m    139\u001b[0m     \u001b[39msuper\u001b[39m(Document, \u001b[39mself\u001b[39m)\u001b[39m.\u001b[39m\u001b[39m__init__\u001b[39m(\u001b[39m*\u001b[39margs, \u001b[39m*\u001b[39m\u001b[39m*\u001b[39mkwargs)\n\u001b[1;32m--> 140\u001b[0m     \u001b[39mself\u001b[39;49m\u001b[39m.\u001b[39;49mget_motor_collection()\n\u001b[0;32m    141\u001b[0m     \u001b[39mself\u001b[39m\u001b[39m.\u001b[39m_save_state()\n\u001b[0;32m    142\u001b[0m     \u001b[39mself\u001b[39m\u001b[39m.\u001b[39m_swap_revision()\n",
      "File \u001b[1;32mc:\\pycho\\FastAPI-Book\\planner\\venv\\Lib\\site-packages\\beanie\\odm\\interfaces\\getters.py:13\u001b[0m, in \u001b[0;36mOtherGettersInterface.get_motor_collection\u001b[1;34m(cls)\u001b[0m\n\u001b[0;32m     11\u001b[0m \u001b[39m@classmethod\u001b[39m\n\u001b[0;32m     12\u001b[0m \u001b[39mdef\u001b[39;00m \u001b[39mget_motor_collection\u001b[39m(\u001b[39mcls\u001b[39m) \u001b[39m-\u001b[39m\u001b[39m>\u001b[39m AsyncIOMotorCollection:\n\u001b[1;32m---> 13\u001b[0m     \u001b[39mreturn\u001b[39;00m \u001b[39mcls\u001b[39;49m\u001b[39m.\u001b[39;49mget_settings()\u001b[39m.\u001b[39mmotor_collection\n",
      "File \u001b[1;32mc:\\pycho\\FastAPI-Book\\planner\\venv\\Lib\\site-packages\\beanie\\odm\\documents.py:896\u001b[0m, in \u001b[0;36mDocument.get_settings\u001b[1;34m(cls)\u001b[0m\n\u001b[0;32m    889\u001b[0m \u001b[39m\u001b[39m\u001b[39m\"\"\"\u001b[39;00m\n\u001b[0;32m    890\u001b[0m \u001b[39mGet document settings, which was created on\u001b[39;00m\n\u001b[0;32m    891\u001b[0m \u001b[39mthe initialization step\u001b[39;00m\n\u001b[0;32m    892\u001b[0m \n\u001b[0;32m    893\u001b[0m \u001b[39m:return: DocumentSettings class\u001b[39;00m\n\u001b[0;32m    894\u001b[0m \u001b[39m\"\"\"\u001b[39;00m\n\u001b[0;32m    895\u001b[0m \u001b[39mif\u001b[39;00m \u001b[39mcls\u001b[39m\u001b[39m.\u001b[39m_document_settings \u001b[39mis\u001b[39;00m \u001b[39mNone\u001b[39;00m:\n\u001b[1;32m--> 896\u001b[0m     \u001b[39mraise\u001b[39;00m CollectionWasNotInitialized\n\u001b[0;32m    897\u001b[0m \u001b[39mreturn\u001b[39;00m \u001b[39mcls\u001b[39m\u001b[39m.\u001b[39m_document_settings\n",
      "\u001b[1;31mCollectionWasNotInitialized\u001b[0m: "
     ]
    }
   ],
   "source": [
    "event1 = Event(name=\"Packt office launch\", location=\"Hybrid\")\n",
    "# event2 = Event(name=\"Hanbit office launch\", location=\"Hybrid\")\n",
    "# await event1.create()\n",
    "# await event2.create()\n",
    "# await Event.insert_many([event1, event2])\n"
   ]
  },
  {
   "cell_type": "code",
   "execution_count": null,
   "metadata": {},
   "outputs": [],
   "source": [
    "P"
   ]
  }
 ],
 "metadata": {
  "kernelspec": {
   "display_name": "venv",
   "language": "python",
   "name": "python3"
  },
  "language_info": {
   "codemirror_mode": {
    "name": "ipython",
    "version": 3
   },
   "file_extension": ".py",
   "mimetype": "text/x-python",
   "name": "python",
   "nbconvert_exporter": "python",
   "pygments_lexer": "ipython3",
   "version": "3.11.4"
  },
  "orig_nbformat": 4
 },
 "nbformat": 4,
 "nbformat_minor": 2
}
